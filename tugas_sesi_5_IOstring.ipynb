{
 "cells": [
  {
   "cell_type": "code",
   "execution_count": 5,
   "id": "7e0faf9b-abfb-4e09-a2c7-a5359ac26d55",
   "metadata": {},
   "outputs": [
    {
     "name": "stdin",
     "output_type": "stream",
     "text": [
      "Masukan Nama Lengkap : Mohamad syahril Abidin\n",
      "Isikan kelamin Pria\n",
      "Masukan Tempat Tanggal Lahir Sukabumi 23 agustus 2005\n",
      "Masukan Alamat Kab.Sukabumi Kec. Nagrak\n",
      "Domisili Jakarta\n",
      "Masukan Email dindon@gmail.com\n",
      "Masukan No Handphone 087766558875\n"
     ]
    },
    {
     "name": "stdout",
     "output_type": "stream",
     "text": [
      "\n",
      " --- Data Diri --- \n",
      "Nama Lengkap : Mohamad syahril Abidin\n",
      "Jenis Kelamin : Pria\n",
      "TempatTAnggal Lahir Sukabumi 23 agustus 2005: \n",
      "Alamat : Kab.Sukabumi Kec. Nagrak\n",
      "Domisili : Jakarta\n",
      "Email : dindon@gmail.com\n",
      "Nomer Handphone : 087766558875\n"
     ]
    }
   ],
   "source": [
    "nama = input(\"Masukan Nama Lengkap :\")\n",
    "gender = input(\"Isikan kelamin\") \n",
    "ttl = input(\"Masukan Tempat Tanggal Lahir\")\n",
    "alamat = input(\"Masukan Alamat\")\n",
    "dom = input(\"Domisili\")\n",
    "email = input(\"Masukan Email\")\n",
    "noHP = input(\"Masukan No Handphone\")\n",
    "\n",
    "print(\"\\n --- Data Diri --- \")\n",
    "print(\"Nama Lengkap : {}\".format(nama))\n",
    "print(\"Jenis Kelamin : {}\".format(gender))\n",
    "print(\"TempatTAnggal Lahir {}: \".format(ttl))\n",
    "print(\"Alamat : {}\".format(alamat))\n",
    "print(\"Domisili : {}\".format(dom))\n",
    "print(\"Email : {}\".format(email))\n",
    "print(\"Nomer Handphone : {}\".format(noHP))"
   ]
  },
  {
   "cell_type": "code",
   "execution_count": 18,
   "id": "7ff69b83-f9f2-4b67-abf4-8a3c0991a165",
   "metadata": {},
   "outputs": [
    {
     "name": "stdout",
     "output_type": "stream",
     "text": [
      "1.PUTRA NUSA\n",
      "2.NIVERSITAS NSA PTRA SKABMI\n",
      "3.SUKABUMI PUTRA NUSA UNIVERSITAS\n",
      "4.UNPS\n",
      "5.TAS SAPU BUMI\n"
     ]
    }
   ],
   "source": [
    "kalimat =(\"UNIVERSITAS NUSA PUTRA SUKABUMI\")\n",
    "#PUTRA NUSA\n",
    "print(\"1.\", end = '')\n",
    "print(kalimat [17:22], end = ' ')#PUTRA\n",
    "print(kalimat [12:16],)#NUSA\n",
    "\n",
    "#NIVERSITAS NSA PTRA SKABMI\n",
    "print(\"2.\", end = '')\n",
    "print(kalimat [1:11], end = ' ')#NIVERSITAS \n",
    "print(kalimat [12], end = '')#N\n",
    "print(kalimat [14:16], end = ' ')#SA\n",
    "print(kalimat [17], end = '')#P\n",
    "print(kalimat [19:-9], end = ' ')#TRA\n",
    "print(kalimat [23], end = '')#S\n",
    "print(kalimat [25:28], end = '')#KAB\n",
    "print(kalimat [29:])#MI\n",
    "\n",
    "#SUKABUMI PUTRA NUSA UNIVERSITAS\n",
    "print(\"3.\", end = '')\n",
    "print(kalimat [23:], end = ' ')#SUKABUMI\n",
    "print(kalimat [17:22], end = ' ')#PUTRA\n",
    "print(kalimat [12:16], end = ' ')#NUSA\n",
    "print(kalimat [0:11])#UNIVERSITAS\n",
    "\n",
    "#UNPS\n",
    "print(\"4.\", end = '')\n",
    "print(kalimat[0], end = '')#U\n",
    "print(kalimat[12], end = '')#N\n",
    "print(kalimat[17], end = '')#P\n",
    "print(kalimat[23])#S\n",
    "\n",
    "#TAS SAPU BUMI\n",
    "print(\"5.\", end = '')\n",
    "print(kalimat[8:11], end = ' ')#TAS\n",
    "print(kalimat[14:16], end = '')#SA\n",
    "print(kalimat[17:19], end = ' ')#PU\n",
    "print(kalimat[27:])#BUMI"
   ]
  },
  {
   "cell_type": "code",
   "execution_count": null,
   "id": "52433190-8b22-463c-837a-1a8b10a027ef",
   "metadata": {},
   "outputs": [],
   "source": []
  }
 ],
 "metadata": {
  "kernelspec": {
   "display_name": "Python 3 (ipykernel)",
   "language": "python",
   "name": "python3"
  },
  "language_info": {
   "codemirror_mode": {
    "name": "ipython",
    "version": 3
   },
   "file_extension": ".py",
   "mimetype": "text/x-python",
   "name": "python",
   "nbconvert_exporter": "python",
   "pygments_lexer": "ipython3",
   "version": "3.12.7"
  }
 },
 "nbformat": 4,
 "nbformat_minor": 5
}
